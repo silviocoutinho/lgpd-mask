{
 "cells": [
  {
   "cell_type": "markdown",
   "id": "565f2569-b552-4765-b2ac-b2515a9b2a87",
   "metadata": {},
   "source": [
    "# **LGPD - Dados Sensíveis** #"
   ]
  },
  {
   "cell_type": "markdown",
   "id": "b9bc1417-1662-4d27-adcb-2e34f68ab51b",
   "metadata": {},
   "source": [
    "Bibliotecas Básicas de DataFrame"
   ]
  },
  {
   "cell_type": "code",
   "execution_count": 2,
   "id": "74a51baa-6633-4030-bfc0-69ff0a3ea0d9",
   "metadata": {
    "tags": []
   },
   "outputs": [],
   "source": [
    "import pandas as pd\n",
    "import numpy as np"
   ]
  },
  {
   "cell_type": "markdown",
   "id": "80f04aab-a2e9-40a2-b18b-363ddbd28bb6",
   "metadata": {
    "tags": []
   },
   "source": [
    "Bibliotecas para manipular PDF"
   ]
  },
  {
   "cell_type": "markdown",
   "id": "3bde0082-c7cc-4b37-b340-535c0ff68482",
   "metadata": {
    "tags": []
   },
   "source": [
    "Deve ser instaladas as bibliotecas abaixo:\n",
    "- pip install PyPDF2\n",
    "- pip install PyMuPDF\n",
    "- pip install fitz (desconsiderar a instalacao do fitz)\n"
   ]
  },
  {
   "cell_type": "code",
   "execution_count": 3,
   "id": "19449339-9a94-4117-9c47-8d950443af46",
   "metadata": {
    "tags": []
   },
   "outputs": [],
   "source": [
    "\n",
    "from PyPDF2 import PdfReader"
   ]
  },
  {
   "cell_type": "code",
   "execution_count": 4,
   "id": "437eeeff-1f77-4985-be30-6387bed34402",
   "metadata": {
    "tags": []
   },
   "outputs": [],
   "source": [
    "import fitz"
   ]
  },
  {
   "cell_type": "markdown",
   "id": "a00e6568-8206-493e-aae8-ca4089f24549",
   "metadata": {},
   "source": [
    "### Status Bar ###"
   ]
  },
  {
   "cell_type": "code",
   "execution_count": 5,
   "id": "ed2dd3bb-7dd2-482f-bc38-56a49d7cbfb5",
   "metadata": {
    "tags": []
   },
   "outputs": [],
   "source": [
    "from tqdm.notebook import tqdm"
   ]
  },
  {
   "cell_type": "markdown",
   "id": "48cdef82-f85a-40ca-9b91-832ec8caf403",
   "metadata": {},
   "source": [
    "## **Biblioteca para checar a existencia de arquivo** ##"
   ]
  },
  {
   "cell_type": "code",
   "execution_count": 6,
   "id": "a49852e4-6ce2-4315-92c6-78e3bc8887eb",
   "metadata": {
    "tags": []
   },
   "outputs": [],
   "source": [
    "import os.path"
   ]
  },
  {
   "cell_type": "markdown",
   "id": "4b9d0b88-8bee-4cb3-8eef-db7c30b8d41a",
   "metadata": {},
   "source": [
    "### Execução Manual ###"
   ]
  },
  {
   "cell_type": "code",
   "execution_count": 1,
   "id": "1eb76ada-ea84-4799-892a-49724927732c",
   "metadata": {
    "tags": []
   },
   "outputs": [
    {
     "ename": "NameError",
     "evalue": "name 'os' is not defined",
     "output_type": "error",
     "traceback": [
      "\u001b[0;31m---------------------------------------------------------------------------\u001b[0m",
      "\u001b[0;31mNameError\u001b[0m                                 Traceback (most recent call last)",
      "Cell \u001b[0;32mIn[1], line 17\u001b[0m\n\u001b[1;32m     14\u001b[0m     number \u001b[38;5;241m=\u001b[39m \u001b[38;5;28mstr\u001b[39m(v)\n\u001b[1;32m     16\u001b[0m caminhoArquivo \u001b[38;5;241m=\u001b[39m origem\u001b[38;5;241m+\u001b[39m\u001b[38;5;124m\"\u001b[39m\u001b[38;5;124m/\u001b[39m\u001b[38;5;124m\"\u001b[39m\u001b[38;5;241m+\u001b[39m ano \u001b[38;5;241m+\u001b[39m\u001b[38;5;124m\"\u001b[39m\u001b[38;5;124m/portaria\u001b[39m\u001b[38;5;132;01m{}\u001b[39;00m\u001b[38;5;124m.pdf\u001b[39m\u001b[38;5;124m\"\u001b[39m\u001b[38;5;241m.\u001b[39mformat(number)\n\u001b[0;32m---> 17\u001b[0m existeArquivo \u001b[38;5;241m=\u001b[39m \u001b[43mos\u001b[49m\u001b[38;5;241m.\u001b[39mpath\u001b[38;5;241m.\u001b[39misfile(caminhoArquivo)\n\u001b[1;32m     19\u001b[0m \u001b[38;5;28;01mif\u001b[39;00m (existeArquivo):        \n\u001b[1;32m     21\u001b[0m     arquivo \u001b[38;5;241m=\u001b[39m (caminhoArquivo)\n",
      "\u001b[0;31mNameError\u001b[0m: name 'os' is not defined"
     ]
    }
   ],
   "source": [
    "origem = \"Portarias\"\n",
    "destino = \"Mascaras\"\n",
    "\n",
    "ano = \"2012\"\n",
    "\n",
    "RGParaBusca = \"29.475.726-0 – SSP/SP\" \n",
    "CPFParaBusca = \"280.962.058-03\"  \n",
    "portarias = [1, 135]        \n",
    "    \n",
    "for v in (portarias):   \n",
    "    if (v < 10):\n",
    "        number = \"0\" + str(v)\n",
    "    else:\n",
    "        number = str(v)\n",
    "     \n",
    "    caminhoArquivo = origem+\"/\"+ ano +\"/portaria{}.pdf\".format(number)\n",
    "    existeArquivo = os.path.isfile(caminhoArquivo)\n",
    "    \n",
    "    if (existeArquivo):        \n",
    "    \n",
    "        arquivo = (caminhoArquivo)\n",
    "        reader = PdfReader(arquivo)\n",
    "        page = reader.pages[0]  \n",
    "        \n",
    "        doc = fitz.open(arquivo)\n",
    "        page = doc[0]\n",
    "       \n",
    "        achouRG = False\n",
    "        achouCPF = False\n",
    "\n",
    "        for rect in page.search_for(CPFParaBusca):\n",
    "            a = page.add_redact_annot(rect, fill=(0, 0, 0)) #marca para remover o texto, e seleciona a cor preta \n",
    "            a.update() \n",
    "            page.apply_redactions() #apaga a palavra selecionada\n",
    "            achouCPF = True\n",
    "\n",
    "        for rect1 in page.search_for(RGParaBusca):\n",
    "            a = page.add_redact_annot(rect1, fill=(0, 0, 0)) #marca para remover o texto, e seleciona a cor preta \n",
    "            a.update() \n",
    "            page.apply_redactions() #apaga a palavra selecionada\n",
    "            achouRG = True\n",
    "            #doc.save(destino+\"/\"+ ano+\"/portaria{}.pdf\".format(number))  # gera uma copia do(s) arquivo(s), se colocar o nome do(s) arquivo(s) como teste, ele substui o outro.\n",
    "\n",
    "        if (achouCPF or achouRG):\n",
    "            doc.save(destino+\"/\"+ ano+\"/corrigido/portaria{}.pdf\".format(number))  # gera uma copia do(s) arquivo(s), se colocar o nome do(s) arquivo(s) como teste, ele substui o outro.\n",
    "\n",
    "        if (achouCPF == True and achouRG == False):\n",
    "            print(\"Verificar Portaria N.: \", number, \" RG\")\n",
    "\n",
    "        if (achouCPF == False and achouRG == True):\n",
    "            print(\"Verificar Portaria N.: \", number, \" CPF\")\n",
    "    \n",
    "    else:\n",
    "        print(\"Nao existe o arquivo \", caminhoArquivo)"
   ]
  },
  {
   "cell_type": "code",
   "execution_count": null,
   "id": "14ac936b-14c4-4e69-8413-3d33d3281d71",
   "metadata": {},
   "outputs": [],
   "source": []
  },
  {
   "cell_type": "code",
   "execution_count": null,
   "id": "e6acb713-715c-4b3b-8c5b-dc2f073e4e48",
   "metadata": {},
   "outputs": [],
   "source": []
  }
 ],
 "metadata": {
  "kernelspec": {
   "display_name": "Python 3 (ipykernel)",
   "language": "python",
   "name": "python3"
  },
  "language_info": {
   "codemirror_mode": {
    "name": "ipython",
    "version": 3
   },
   "file_extension": ".py",
   "mimetype": "text/x-python",
   "name": "python",
   "nbconvert_exporter": "python",
   "pygments_lexer": "ipython3",
   "version": "3.10.10"
  }
 },
 "nbformat": 4,
 "nbformat_minor": 5
}
